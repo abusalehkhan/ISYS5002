{
  "nbformat": 4,
  "nbformat_minor": 0,
  "metadata": {
    "colab": {
      "provenance": [],
      "authorship_tag": "ABX9TyNZ57htYr9+2gKBZL8Yf91g",
      "include_colab_link": true
    },
    "kernelspec": {
      "name": "python3",
      "display_name": "Python 3"
    },
    "language_info": {
      "name": "python"
    }
  },
  "cells": [
    {
      "cell_type": "markdown",
      "metadata": {
        "id": "view-in-github",
        "colab_type": "text"
      },
      "source": [
        "<a href=\"https://colab.research.google.com/github/abusalehkhan/ISYS5002/blob/main/Sundae_Winner.ipynb\" target=\"_parent\"><img src=\"https://colab.research.google.com/assets/colab-badge.svg\" alt=\"Open In Colab\"/></a>"
      ]
    },
    {
      "cell_type": "code",
      "execution_count": 1,
      "metadata": {
        "id": "_lS0hqX20Z3A"
      },
      "outputs": [],
      "source": [
        "# Make a list of customers\n",
        "customers = ['Jimmy', 'Kim', 'John', 'Stacie']"
      ]
    },
    {
      "cell_type": "code",
      "source": [
        "# Import random function as I will select the winner randomly.\n",
        "import random\n",
        "winner = random.choice(customers)"
      ],
      "metadata": {
        "id": "nVwDZdqy1Bl3"
      },
      "execution_count": 3,
      "outputs": []
    },
    {
      "cell_type": "code",
      "source": [
        "# Chosing vanilla flavor and kept the value in flavor variable\n",
        "flavor = 'vanilla'"
      ],
      "metadata": {
        "id": "ikiul_8N1TaP"
      },
      "execution_count": 4,
      "outputs": []
    },
    {
      "cell_type": "code",
      "source": [
        "# Result of the random selection\n",
        "print('Congratulations ' + winner +\n",
        " ' you have won an ice cream sundae!')"
      ],
      "metadata": {
        "colab": {
          "base_uri": "https://localhost:8080/"
        },
        "id": "HCEX3O1M1U7n",
        "outputId": "2bb0fc12-f536-4496-fea3-fcecb8a7e77c"
      },
      "execution_count": 5,
      "outputs": [
        {
          "output_type": "stream",
          "name": "stdout",
          "text": [
            "Congratulations John you have won an ice cream sundae!\n"
          ]
        }
      ]
    },
    {
      "cell_type": "code",
      "source": [
        "prompt = 'Would you like a cherry on top? '"
      ],
      "metadata": {
        "id": "195dyWRJ1meJ"
      },
      "execution_count": 6,
      "outputs": []
    },
    {
      "cell_type": "code",
      "source": [
        "wants_cherry = input(prompt)"
      ],
      "metadata": {
        "colab": {
          "base_uri": "https://localhost:8080/"
        },
        "id": "C5coabYG1n5A",
        "outputId": "73bfdf12-9be3-4a26-b90c-54985832f534"
      },
      "execution_count": 7,
      "outputs": [
        {
          "name": "stdout",
          "output_type": "stream",
          "text": [
            "Would you like a cherry on top? yes\n"
          ]
        }
      ]
    },
    {
      "cell_type": "code",
      "source": [
        "order = flavor + ' sundae '"
      ],
      "metadata": {
        "id": "MizLIv5f16Dh"
      },
      "execution_count": 9,
      "outputs": []
    },
    {
      "cell_type": "code",
      "source": [
        "if (wants_cherry == 'yes'):\n",
        " order = order + ' with a cherry on top'"
      ],
      "metadata": {
        "id": "50UncO9_2EPS"
      },
      "execution_count": 11,
      "outputs": []
    },
    {
      "cell_type": "code",
      "source": [
        "print('One ' + order + ' for ' + winner +\n",
        " ' coming right up...')"
      ],
      "metadata": {
        "colab": {
          "base_uri": "https://localhost:8080/"
        },
        "id": "Vhccl0t12Q-L",
        "outputId": "dd390dfb-b914-4515-e6ee-257f0e352faf"
      },
      "execution_count": 12,
      "outputs": [
        {
          "output_type": "stream",
          "name": "stdout",
          "text": [
            "One vanilla sundae  with a cherry on top for John coming right up...\n"
          ]
        }
      ]
    }
  ]
}